{
 "cells": [
  {
   "cell_type": "markdown",
   "metadata": {},
   "source": [
    "# Import data from Catalysishub.org for CatMAP\n",
    "\n",
    "In this tutorial we will\n",
    "    -   Download a set of formation energies from a publication and export them in a CatMAP EnergyLandscape object.\n",
    "    -   Create an ASE-db sqlite3 file containing the corresponding atomic structures."
   ]
  },
  {
   "cell_type": "code",
   "execution_count": 1,
   "metadata": {},
   "outputs": [],
   "source": [
    "# Import modules.\n",
    "import os\n",
    "import ase.db\n",
    "from ase.visualize import view\n",
    "\n",
    "from catmap.api.cathub import CatalysisHub"
   ]
  },
  {
   "cell_type": "markdown",
   "metadata": {},
   "source": [
    "### Download formation energies.\n",
    "\n",
    "First we need to write a query for a publication."
   ]
  },
  {
   "cell_type": "code",
   "execution_count": 2,
   "metadata": {},
   "outputs": [],
   "source": [
    "# Instantiate cathub interface object.\n",
    "cathub = CatalysisHub()\n",
    "\n",
    "# GraphQL search string to the publications table.\n",
    "publication = \"WO3 surface doping for OER to be published\""
   ]
  },
  {
   "cell_type": "markdown",
   "metadata": {},
   "source": [
    "Formation energies as used by CatMAP are simply reaction energies with respect to a fixed reference.\n",
    "Therefore, you only need to query for reactions from the relevant gas phase references, in order to download the relevant set of formation energies."
   ]
  },
  {
   "cell_type": "code",
   "execution_count": 3,
   "metadata": {},
   "outputs": [],
   "source": [
    "# Choose your references.\n",
    "references = ['H2gas', 'H2Ogas']\n",
    "\n",
    "# Fetch energies and create an EnergyLandscape object.\n",
    "energy_landscape = cathub.publication_energy_landscape(publication, references, site_specific=True, limit=10)"
   ]
  },
  {
   "cell_type": "markdown",
   "metadata": {},
   "source": [
    "We have now retrieved a list of dictionaries, `reactions`. The reaction energies can be attached to a `catmap.api.energy_landscape` object as formation energies."
   ]
  },
  {
   "cell_type": "code",
   "execution_count": 4,
   "metadata": {},
   "outputs": [
    {
     "data": {
      "text/plain": [
       "{'1_OH_FeW15HO48_phase_surf_1_cell_B': 2.12481465,\n",
       " '1_OH_HfW15O47_phase_surf_1_cell_A': 1.29929107,\n",
       " '1_OH_MoW15O48_phase_surf_1_cell_B': 2.15319344,\n",
       " '1_OH_W15ZrO47_phase_surf_1_cell_B': 2.24930634,\n",
       " '1_OOH_TaW15O47_phase_surf_1_cell_A': 3.12919949,\n",
       " '1_O_CrW15O47_phase_surf_1_cell_A': 1.64600583,\n",
       " '1_O_CrW15O47_phase_surf_1_cell_B': 3.43933557,\n",
       " '1_O_NbW15O48_phase_surf_1_cell_B': 4.8276208,\n",
       " '1_O_VW15O48_phase_surf_1_cell_A': 2.98979267,\n",
       " '1_O_W15ZrO48_phase_surf_1_cell_A': 3.64217135}"
      ]
     },
     "execution_count": 4,
     "metadata": {},
     "output_type": "execute_result"
    }
   ],
   "source": [
    "# Take a peak.\n",
    "energy_landscape.formation_energies"
   ]
  },
  {
   "cell_type": "markdown",
   "metadata": {},
   "source": [
    "Finally, as usual, we export a CatMAP input file."
   ]
  },
  {
   "cell_type": "code",
   "execution_count": 9,
   "metadata": {},
   "outputs": [
    {
     "name": "stdout",
     "output_type": "stream",
     "text": [
      "Formation energies exported to my_energies.txt\n"
     ]
    }
   ],
   "source": [
    "fname = 'my_energies.txt'\n",
    "energy_landscape.make_input_file(fname)"
   ]
  },
  {
   "cell_type": "code",
   "execution_count": 11,
   "metadata": {},
   "outputs": [
    {
     "name": "stdout",
     "output_type": "stream",
     "text": [
      "surface_name\tphase\tsite_name\tspecies_name\tformation_energy\tfrequencies\treference\tcoverage\tstd\n",
      "\n",
      "CrW15O47\tphase\t1\tO\t1.646\t[]\tUmVhY3Rpb246MzQ1Mzk=\t0.0\tnan\n",
      "\n",
      "CrW15O47\tphase\t1\tO\t3.4393\t[]\tUmVhY3Rpb246MzQ1Mzg=\t0.0\tnan\n",
      "\n",
      "FeW15HO48\tphase\t1\tOH\t2.1248\t[]\tUmVhY3Rpb246MzQ1NzA=\t0.0\tnan\n",
      "\n",
      "HfW15O47\tphase\t1\tOH\t1.2993\t[]\tUmVhY3Rpb246MzQ2MjM=\t0.0\tnan\n",
      "\n"
     ]
    }
   ],
   "source": [
    "# Take a peak at the file.\n",
    "with open(fname) as fp:\n",
    "    for line in fp.readlines()[:5]:\n",
    "        print(line)"
   ]
  },
  {
   "cell_type": "markdown",
   "metadata": {},
   "source": [
    "Notice the `reference` column contains catalysis-hub ids corresponding to the atomic structure."
   ]
  },
  {
   "cell_type": "markdown",
   "metadata": {},
   "source": [
    "### Atomic structures."
   ]
  },
  {
   "cell_type": "markdown",
   "metadata": {},
   "source": [
    "Next, we will retrieve atomic structures from the publication."
   ]
  },
  {
   "cell_type": "code",
   "execution_count": 12,
   "metadata": {},
   "outputs": [
    {
     "name": "stderr",
     "output_type": "stream",
     "text": [
      "100%|██████████| 10/10 [00:07<00:00,  1.34it/s]\n"
     ]
    }
   ],
   "source": [
    "# Return a list of atoms objects.\n",
    "images = cathub.get_publication_atoms(publication, limit=10)\n",
    "\n",
    "# This may take time due to a GraphQL query per atom object."
   ]
  },
  {
   "cell_type": "markdown",
   "metadata": {},
   "source": [
    "Finally, we can save them to an ase database, keeping the catalysis-hub ids, to connect them with the energy data file."
   ]
  },
  {
   "cell_type": "code",
   "execution_count": 13,
   "metadata": {},
   "outputs": [],
   "source": [
    "# Save them to an ASE-db file.\n",
    "os.remove('my_asedb.db')\n",
    "c = ase.db.connect('my_asedb.db')\n",
    "\n",
    "for atoms in images:\n",
    "    c.write(atoms, key_value_pairs=atoms.info['key_value_pairs'])"
   ]
  },
  {
   "cell_type": "code",
   "execution_count": null,
   "metadata": {},
   "outputs": [],
   "source": [
    "# Alternative approach.\n",
    "\n",
    "pubid = cathub.get_publication_uids\n",
    "unique_ids = cathub.get_publication_uids"
   ]
  }
 ],
 "metadata": {
  "kernelspec": {
   "display_name": "Python 3",
   "language": "python",
   "name": "python3"
  },
  "language_info": {
   "codemirror_mode": {
    "name": "ipython",
    "version": 3
   },
   "file_extension": ".py",
   "mimetype": "text/x-python",
   "name": "python",
   "nbconvert_exporter": "python",
   "pygments_lexer": "ipython3",
   "version": "3.6.4"
  }
 },
 "nbformat": 4,
 "nbformat_minor": 2
}
