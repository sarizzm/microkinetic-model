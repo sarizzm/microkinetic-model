{
 "cells": [
  {
   "cell_type": "markdown",
   "metadata": {},
   "source": [
    "## How to import the data\n",
    "\n",
    "    1. Define search filters. This is needed if some data has to be filtered out.\n",
    "    2. Import data from ase databases.\n",
    "    3. Store references and calculate formation energies.\n",
    "    4. Export catmap input file.\n",
    "\n",
    "It is important to pay attention to the search filters. If you get garbage results, it is likely because the search filters are not sufficient for your dataset. Make sure you filter calculator parameters such as XC-functional, basis sets cutoffs, k-point sampling, ect., when necessary.\n",
    "\n",
    "Importing data from correctly formatted .db files:"
   ]
  },
  {
   "cell_type": "code",
   "execution_count": 22,
   "metadata": {},
   "outputs": [],
   "source": [
    "# Import and instantiate energy_landscape object.\n",
    "from catmap.api.ase_data import EnergyLandscape\n",
    "energy_landscape = EnergyLandscape()\n",
    "\n",
    "# Import all gas phase species from db.\n",
    "search_filter_gas = []\n",
    "energy_landscape.get_molecules('molecules.db', selection=search_filter_gas)\n",
    "\n",
    "# Import all adsorbates and slabs from db.\n",
    "search_filter_slab = []\n",
    "energy_landscape.get_surfaces('surfaces.db', selection=search_filter_slab, site_specific=False)"
   ]
  },
  {
   "cell_type": "markdown",
   "metadata": {},
   "source": [
    "The `site_specific` option accepts `True`, `False` or a string. In the latter case, the `site` key is recognized only if the value matches the string, while all other sites are treated as identical.\n",
    "\n",
    "Your data is now stored in the `EnergyLandscape` object."
   ]
  },
  {
   "cell_type": "markdown",
   "metadata": {},
   "source": [
    "## Get formation energies and export to catmap format.\n",
    "\n",
    "Formation energies are calculated:"
   ]
  },
  {
   "cell_type": "code",
   "execution_count": 32,
   "metadata": {},
   "outputs": [],
   "source": [
    "references = (('H', 'H2_gas'), ('O', 'H2O_gas'), ('C', 'CH4_gas'),)\n",
    "energy_landscape.calc_formation_energies(references)"
   ]
  },
  {
   "cell_type": "markdown",
   "metadata": {},
   "source": [
    "`references` is a required parameter, that should contain gas phase references. If a gas phase reference is dependent on another, order the dependent one after the latter."
   ]
  },
  {
   "cell_type": "code",
   "execution_count": 33,
   "metadata": {},
   "outputs": [
    {
     "name": "stdout",
     "output_type": "stream",
     "text": [
      "Formation energies exported to my_input.txt\n"
     ]
    }
   ],
   "source": [
    "file_name = 'my_input.txt'\n",
    "energy_landscape.make_input_file(file_name)"
   ]
  },
  {
   "cell_type": "code",
   "execution_count": 35,
   "metadata": {},
   "outputs": [
    {
     "name": "stdout",
     "output_type": "stream",
     "text": [
      "surface_name\tphase\tsite_name\tspecies_name\tformation_energy\tfrequencies\treference\tcoverage\tstd\n",
      "\n",
      "Ag\tfcc\t(211)\tCH2\t2.7843\t[]\t19\t0.111\t0.0\n",
      "\n",
      "Ag\tfcc\t(211)\tCH3\t1.3746\t[]\t2\t0.111\t0.0\n",
      "\n",
      "Al\tfcc\t(211)\tCH2\t0.8533\t[]\t33\t0.111\t0.0\n",
      "\n",
      "Al\tfcc\t(211)\tCH3\t0.4667\t[]\t43\t0.111\t0.0\n",
      "\n"
     ]
    }
   ],
   "source": [
    "# Take a peak at the file.\n",
    "with open(file_name) as fp:\n",
    "    for line in fp.readlines()[:5]:\n",
    "        print(line)"
   ]
  },
  {
   "cell_type": "markdown",
   "metadata": {},
   "source": [
    "## How to import frequencies.\n",
    "\n",
    "The field `data` always contains a dictionary. Use it with the key `frequencies` to make them accessible to the `EnergyLandscape`.\n",
    "\n",
    "Importing frequencies is handled by the methods `get_surfaces` and `get_molecules`, which we have already used. It is necessary to pass the parameter `frequency_db` to it to import frequencies along with atomic structures like so:"
   ]
  },
  {
   "cell_type": "code",
   "execution_count": 36,
   "metadata": {},
   "outputs": [],
   "source": [
    "energy_landscape.get_molecules('molecules.db', frequency_db='frequencies.db', selection=search_filter_gas)"
   ]
  },
  {
   "cell_type": "markdown",
   "metadata": {},
   "source": [
    "## How to import transition states and pathways.\n",
    "\n",
    "Transition states and paths have the mandatory key value pairs:\n",
    "\n",
    " - `path_id`\n",
    " - `step` or `image`\n",
    "\n",
    "`step` or `image` is used to order the images.\n",
    "There is one additional recommended key value pair:\n",
    "\n",
    " - `distance`\n",
    "\n",
    "which is useful for making plots of the energy versus a reaction coordinate.\n",
    "To add formation energies of transition states to your catmap input, you can use the method:"
   ]
  },
  {
   "cell_type": "code",
   "execution_count": 40,
   "metadata": {},
   "outputs": [],
   "source": [
    "energy_landscape.get_transition_states('neb.db')\n",
    "energy_landscape.calc_formation_energies(references)"
   ]
  },
  {
   "cell_type": "markdown",
   "metadata": {},
   "source": [
    "## More data structure details\n",
    "\n",
    "The energy landscape module stores your data in a number of dictionaries, and it defines points on the energy landsa"
   ]
  },
  {
   "cell_type": "code",
   "execution_count": null,
   "metadata": {},
   "outputs": [],
   "source": []
  }
 ],
 "metadata": {
  "kernelspec": {
   "display_name": "Python 3",
   "language": "python",
   "name": "python3"
  },
  "language_info": {
   "codemirror_mode": {
    "name": "ipython",
    "version": 3
   },
   "file_extension": ".py",
   "mimetype": "text/x-python",
   "name": "python",
   "nbconvert_exporter": "python",
   "pygments_lexer": "ipython3",
   "version": "3.6.4"
  }
 },
 "nbformat": 4,
 "nbformat_minor": 2
}
